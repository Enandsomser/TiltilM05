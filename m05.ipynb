{
 "metadata": {
  "language_info": {
   "codemirror_mode": {
    "name": "ipython",
    "version": 3
   },
   "file_extension": ".py",
   "mimetype": "text/x-python",
   "name": "python",
   "nbconvert_exporter": "python",
   "pygments_lexer": "ipython3",
   "version": "3.8.3-final"
  },
  "orig_nbformat": 2,
  "kernelspec": {
   "name": "python383jvsc74a57bd0dd4874f22ca07607b71810ac979f514e6dcd60143f9ca1819c28576b76dfd274",
   "display_name": "Python 3.8.3 64-bit (conda)"
  }
 },
 "nbformat": 4,
 "nbformat_minor": 2,
 "cells": [
  {
   "cell_type": "code",
   "execution_count": 3,
   "metadata": {},
   "outputs": [
    {
     "output_type": "stream",
     "name": "stdout",
     "text": [
      "Axel Lindblad, TE19D, NTI,\n"
     ]
    }
   ],
   "source": [
    "def mig():\n",
    "    print(\"Axel Lindblad,\", \"TE19D,\", \"NTI,\")\n",
    "\n",
    "mig()"
   ]
  },
  {
   "cell_type": "code",
   "execution_count": 64,
   "metadata": {},
   "outputs": [
    {
     "output_type": "stream",
     "name": "stdout",
     "text": [
      "Med radien 5 så är\narean 78.5 och\n31.400000000000002 är omkretsen.\n"
     ]
    }
   ],
   "source": [
    "r=int(input(\"Skriv in radien av en cirkel. Det måste vara ett heltal.\"))\n",
    "\n",
    "def area_cirkel(): \n",
    "    print(\"arean\",r**2*3.14, \"och\")\n",
    "\n",
    "def omkrets_cirkel():\n",
    "    print(r*2*3.14, \"är omkretsen.\")\n",
    "print(\"Med radien\",r,\"så är\")\n",
    "area_cirkel()\n",
    "omkrets_cirkel()"
   ]
  },
  {
   "cell_type": "code",
   "execution_count": 65,
   "metadata": {},
   "outputs": [
    {
     "output_type": "stream",
     "name": "stdout",
     "text": [
      "arean 78.5 och\n31.400000000000002 är omkretsen.\n"
     ]
    }
   ],
   "source": [
    "r=int(input(\"Skriv in radien av en cirkel. Det måste vara ett heltal.\"))\n",
    "\n",
    "def area_cirkel(): \n",
    "    return print(\"arean\",r**2*3.14, \"och\")\n",
    "\n",
    "def omkrets_cirkel():\n",
    "    return print(r*2*3.14, \"är omkretsen.\")\n",
    "area_cirkel()\n",
    "omkrets_cirkel()"
   ]
  },
  {
   "cell_type": "code",
   "execution_count": 69,
   "metadata": {},
   "outputs": [
    {
     "output_type": "stream",
     "name": "stdout",
     "text": [
      "50000\n"
     ]
    },
    {
     "output_type": "execute_result",
     "data": {
      "text/plain": [
       "5740.0"
      ]
     },
     "metadata": {},
     "execution_count": 69
    }
   ],
   "source": [
    "månadslön=int(input(\"Skriv in din månadslön.\"))\n",
    "\n",
    "print(månadslön)\n",
    "def kommunal_skatt():\n",
    "    return månadslön*0.2136\n",
    "\n",
    "def landsting_skatt():\n",
    "    return månadslön*0.1148\n",
    "\n",
    "kommunal_skatt()\n",
    "landsting_skatt()"
   ]
  },
  {
   "cell_type": "code",
   "execution_count": null,
   "metadata": {},
   "outputs": [],
   "source": []
  }
 ]
}