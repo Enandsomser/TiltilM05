{
 "metadata": {
  "language_info": {
   "codemirror_mode": {
    "name": "ipython",
    "version": 3
   },
   "file_extension": ".py",
   "mimetype": "text/x-python",
   "name": "python",
   "nbconvert_exporter": "python",
   "pygments_lexer": "ipython3",
   "version": "3.8.3"
  },
  "orig_nbformat": 2,
  "kernelspec": {
   "name": "python383jvsc74a57bd0dd4874f22ca07607b71810ac979f514e6dcd60143f9ca1819c28576b76dfd274",
   "display_name": "Python 3.8.3 64-bit ('base': conda)"
  }
 },
 "nbformat": 4,
 "nbformat_minor": 2,
 "cells": [
  {
   "cell_type": "code",
   "execution_count": 27,
   "metadata": {},
   "outputs": [
    {
     "output_type": "stream",
     "name": "stdout",
     "text": [
      "Tack för att du använder Scam bank, en helt säker bank.\n"
     ]
    }
   ],
   "source": [
    "saldo = 1000\n",
    "while True:\n",
    "    meny = ('\\n Scam bank'\n",
    "            '\\n Vill du sakpa ett bankkonto?'\n",
    "            '\\n1. Ja'\n",
    "            '\\n2. Nej')\n",
    "    \n",
    "    val = int(input(meny))\n",
    "    \n",
    "    if val == 1:\n",
    "        print('Du har skapat ett konto hos Scam bank.')\n",
    "        while True:\n",
    "            meny2 = ('\\n# Scam bank'\n",
    "                     '\\n Meny'\n",
    "                     '\\n1. Saldo'\n",
    "                     '\\n2. Insättning'\n",
    "                     '\\n3. Uttag'\n",
    "                     '\\n0. Avsluta')\n",
    "            \n",
    "            val2 = int(input(meny2))\n",
    "\n",
    "            if val2 == 0:\n",
    "                break\n",
    "            elif val2 == 1:\n",
    "                print(f'Din saldo är på',saldo,'kr')\n",
    "            elif val2 == 2:\n",
    "                insättning = int(input('Ange din insättning'))\n",
    "                saldo += insättning\n",
    "                print('Du har gjort en insättning på',insättning,'kr')\n",
    "            elif val2 == 3:\n",
    "                uttag = int(input('Välj hur mycket du ska ta ut'))\n",
    "                if uttag <= saldo:\n",
    "                    saldo -= uttag\n",
    "                    print(f'Du har gjort ett uttag på',uttag,'kr')\n",
    "                else:\n",
    "                    while True:\n",
    "                        meny3 = ('\\n Du har inte tillräkligt med pengar på ditt konto, vill du ta ett lån?'\n",
    "                                '\\n1. Ja'\n",
    "                                '\\n2. Nej')\n",
    "                        val3 = int(input(meny3))\n",
    "\n",
    "                        if val3 == 1:\n",
    "                            saldo -= uttag\n",
    "                            print('Du har',saldo,'kr i skuld')\n",
    "                            break\n",
    "                        else:\n",
    "                            print('Smart val att inte gå i skuld')\n",
    "                            break\n",
    "            else:\n",
    "                print('Du gör fel')\n",
    "    \n",
    "    elif val == 2:\n",
    "        break\n",
    "    \n",
    "    else:\n",
    "        print('Du måste svara med antingen 1(Ja) eller 2(Nej)')\n",
    "        break\n",
    "print('Tack för att du använder Scam bank, en helt säker bank.')"
   ]
  }
 ]
}